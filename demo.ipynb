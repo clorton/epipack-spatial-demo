{
 "cells": [
  {
   "cell_type": "markdown",
   "metadata": {},
   "source": [
    "Pull the CSV output of `src/parse_settlements.py` from the DVC remote server on Azure where it has been conveniently pushed.  \n",
    "\n",
    "Alternatively, one could run `src/download_GRID3_data.py` and `src/parse_settlements.py` oneself, but that will take awhile, since it includes downloading a 3 GB file and parsing GeoJSON settlement extents into lat/lon centroids."
   ]
  },
  {
   "cell_type": "code",
   "execution_count": null,
   "metadata": {},
   "outputs": [],
   "source": [
    "!dvc pull parse"
   ]
  },
  {
   "cell_type": "markdown",
   "metadata": {},
   "source": [
    "Plot the lat/lon locations + populations of the settlements within the Nigerian state specified in `params.yaml`"
   ]
  },
  {
   "cell_type": "code",
   "execution_count": null,
   "metadata": {},
   "outputs": [],
   "source": [
    "%run src/plot_locations.py"
   ]
  },
  {
   "cell_type": "markdown",
   "metadata": {},
   "source": [
    "Configure a nearest-neighbor network between settlements according to the Nigerian state + kNN parameter specified in `params.yaml`"
   ]
  },
  {
   "cell_type": "code",
   "execution_count": null,
   "metadata": {},
   "outputs": [],
   "source": [
    "%run src/configure_network.py"
   ]
  }
 ],
 "metadata": {
  "language_info": {
   "name": "python"
  },
  "orig_nbformat": 4
 },
 "nbformat": 4,
 "nbformat_minor": 2
}
